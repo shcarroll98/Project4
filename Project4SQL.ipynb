{
 "cells": [
  {
   "cell_type": "code",
   "execution_count": 1,
   "id": "7f11d710-dd79-4e1f-ab74-fd21e9ebafa5",
   "metadata": {},
   "outputs": [
    {
     "name": "stdout",
     "output_type": "stream",
     "text": [
      "Requirement already satisfied: pandas in c:\\users\\secar\\anaconda3\\lib\\site-packages (2.1.4)\n",
      "Requirement already satisfied: sqlalchemy in c:\\users\\secar\\anaconda3\\lib\\site-packages (2.0.21)\n",
      "Requirement already satisfied: numpy<2,>=1.23.2 in c:\\users\\secar\\anaconda3\\lib\\site-packages (from pandas) (1.26.3)\n",
      "Requirement already satisfied: python-dateutil>=2.8.2 in c:\\users\\secar\\anaconda3\\lib\\site-packages (from pandas) (2.8.2)\n",
      "Requirement already satisfied: pytz>=2020.1 in c:\\users\\secar\\anaconda3\\lib\\site-packages (from pandas) (2023.3.post1)\n",
      "Requirement already satisfied: tzdata>=2022.1 in c:\\users\\secar\\anaconda3\\lib\\site-packages (from pandas) (2023.3)\n",
      "Requirement already satisfied: typing-extensions>=4.2.0 in c:\\users\\secar\\anaconda3\\lib\\site-packages (from sqlalchemy) (4.7.1)\n",
      "Requirement already satisfied: greenlet!=0.4.17 in c:\\users\\secar\\anaconda3\\lib\\site-packages (from sqlalchemy) (3.0.1)\n",
      "Requirement already satisfied: six>=1.5 in c:\\users\\secar\\anaconda3\\lib\\site-packages (from python-dateutil>=2.8.2->pandas) (1.16.0)\n",
      "Note: you may need to restart the kernel to use updated packages.\n"
     ]
    }
   ],
   "source": [
    "pip install pandas sqlalchemy\n"
   ]
  },
  {
   "cell_type": "code",
   "execution_count": 4,
   "id": "265e93b9-5837-43c6-a82e-9b19f8a2b19b",
   "metadata": {},
   "outputs": [],
   "source": [
    "import pandas as pd\n",
    "\n"
   ]
  },
  {
   "cell_type": "code",
   "execution_count": 24,
   "id": "034fb313-8ec7-4909-87d5-36ae6d2dbeb6",
   "metadata": {},
   "outputs": [],
   "source": [
    "\n",
    "\n",
    "companies_df = pd.read_csv('C:/Users/secar/OneDrive/Documents/Bootcamp/Project4/sp500_companies.csv')\n",
    "stock_df = pd.read_csv('C:/Users/secar/OneDrive/Documents/Bootcamp/Project4/sp500_stocks.csv')\n",
    "\n",
    "stock_df['Date'] = pd.to_datetime(stock_df['Date'])\n",
    "stock_df = stock_df[(stock_df['Date'] >= '2010-01-01') & (stock_df['Date'] <= '2013-12-31')]\n"
   ]
  },
  {
   "cell_type": "code",
   "execution_count": 25,
   "id": "21103590-5c4b-477d-bd25-8f581801fa1a",
   "metadata": {},
   "outputs": [],
   "source": [
    "from sqlalchemy import create_engine\n",
    "#create/connect to engine\n",
    "engine = create_engine('sqlite:///:memory:')"
   ]
  },
  {
   "cell_type": "code",
   "execution_count": 26,
   "id": "26044847-b2bf-4f11-a438-c3b9afc7d513",
   "metadata": {},
   "outputs": [
    {
     "data": {
      "text/plain": [
       "506018"
      ]
     },
     "execution_count": 26,
     "metadata": {},
     "output_type": "execute_result"
    }
   ],
   "source": [
    "# Store the DataFrames in the SQLite database\n",
    "companies_df.to_sql('table1', con=engine, index=False, if_exists='replace')\n",
    "stock_df.to_sql('table2', con=engine, index=False, if_exists='replace')"
   ]
  },
  {
   "cell_type": "code",
   "execution_count": 27,
   "id": "de133365-65f3-490a-88c6-a033d811dda6",
   "metadata": {},
   "outputs": [],
   "source": [
    "from sqlalchemy import MetaData, Table, select, outerjoin\n",
    "from sqlalchemy.orm import aliased\n",
    "\n",
    "metadata = MetaData()\n",
    "\n",
    "# Reflect tables from the database\n",
    "table1 = Table('table1', metadata, autoload_with=engine)\n",
    "table2 = Table('table2', metadata, autoload_with=engine)\n",
    "\n",
    "# Perform full outer join\n",
    "t1 = aliased(table1)\n",
    "t2 = aliased(table2)\n",
    "\n",
    "stmt1 = select(t1, t2).outerjoin(t2, t1.c.Symbol == t2.c.Symbol)\n",
    "stmt2 = select(t1, t2).outerjoin(t1, t2.c.Symbol == t1.c.Symbol)\n",
    "union_query = stmt1.union_all(stmt2)\n",
    "\n",
    "with engine.connect() as connection:\n",
    "    result = connection.execute(union_query)\n",
    "    merged_df = pd.DataFrame(result.fetchall(), columns=result.keys())\n",
    "\n"
   ]
  },
  {
   "cell_type": "code",
   "execution_count": 28,
   "id": "81c21038-6d1b-4d58-9386-3a0d5ed31a63",
   "metadata": {},
   "outputs": [],
   "source": [
    "# Export the merged DataFrame to an Excel file\n",
    "excel_output_path = \"merged_stocks.xlsx\"\n",
    "merged_df.to_excel(excel_output_path, index=False)\n"
   ]
  },
  {
   "cell_type": "code",
   "execution_count": null,
   "id": "20231c56-171b-42ff-843b-675a3c8c1049",
   "metadata": {},
   "outputs": [],
   "source": []
  }
 ],
 "metadata": {
  "kernelspec": {
   "display_name": "Python 3 (ipykernel)",
   "language": "python",
   "name": "python3"
  },
  "language_info": {
   "codemirror_mode": {
    "name": "ipython",
    "version": 3
   },
   "file_extension": ".py",
   "mimetype": "text/x-python",
   "name": "python",
   "nbconvert_exporter": "python",
   "pygments_lexer": "ipython3",
   "version": "3.11.5"
  }
 },
 "nbformat": 4,
 "nbformat_minor": 5
}
